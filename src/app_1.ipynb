{
 "cells": [
  {
   "cell_type": "code",
   "execution_count": 7,
   "id": "ef3e9c87",
   "metadata": {},
   "outputs": [],
   "source": [
    "import pandas as pd\n",
    "import numpy as np\n",
    "import os\n",
    "from sklearn.ensemble import RandomForestClassifier\n",
    "from sklearn.model_selection import (\n",
    "    train_test_split,\n",
    "    GridSearchCV\n",
    ")\n",
    "\n",
    "from sklearn.datasets import load_breast_cancer\n",
    "from sklearn.metrics import (\n",
    "    accuracy_score,\n",
    "    recall_score,\n",
    "    f1_score,\n",
    "    precision_score\n",
    " )\n",
    "from hyperopt import fmin, tpe, hp, Trials, STATUS_OK\n",
    "import mlflow\n",
    "from sklearn.pipeline import Pipeline"
   ]
  },
  {
   "cell_type": "code",
   "execution_count": 8,
   "id": "f90340c2",
   "metadata": {},
   "outputs": [],
   "source": [
    "data = load_breast_cancer()\n",
    "X = pd.DataFrame(data.data, columns=data.feature_names)\n",
    "y = pd.Series(data.target, name='target')\n",
    "\n",
    "\n",
    "X_train, X_test, y_train, y_test = train_test_split(X, y, random_state=42, test_size=0.2)\n",
    "\n",
    "rf = RandomForestClassifier()\n",
    "\n",
    "\n"
   ]
  },
  {
   "cell_type": "code",
   "execution_count": 11,
   "id": "a858564c",
   "metadata": {},
   "outputs": [
    {
     "name": "stderr",
     "output_type": "stream",
     "text": [
      "2025/05/08 17:28:46 INFO mlflow.tracking.fluent: Experiment with name 'grid search' does not exist. Creating a new experiment.\n"
     ]
    },
    {
     "name": "stdout",
     "output_type": "stream",
     "text": [
      "Fitting 5 folds for each of 48 candidates, totalling 240 fits\n"
     ]
    },
    {
     "name": "stderr",
     "output_type": "stream",
     "text": [
      "2025/05/08 17:29:11 INFO mlflow.sklearn.utils: Logging the 5 best runs, 43 runs will be omitted.\n"
     ]
    },
    {
     "name": "stdout",
     "output_type": "stream",
     "text": [
      "🏃 View run invincible-hog-998 at: http://127.0.0.1:5000/#/experiments/724729758959284366/runs/561a1d0aaa69408887ff58804c4bdcc6\n",
      "🧪 View experiment at: http://127.0.0.1:5000/#/experiments/724729758959284366\n",
      "🏃 View run delicate-ape-160 at: http://127.0.0.1:5000/#/experiments/724729758959284366/runs/2c87acb1072e4afd859ad6ed4c395510\n",
      "🧪 View experiment at: http://127.0.0.1:5000/#/experiments/724729758959284366\n",
      "🏃 View run learned-swan-655 at: http://127.0.0.1:5000/#/experiments/724729758959284366/runs/f426594a5b5746608c36084d4cdfb6e4\n",
      "🧪 View experiment at: http://127.0.0.1:5000/#/experiments/724729758959284366\n",
      "🏃 View run melodic-panda-233 at: http://127.0.0.1:5000/#/experiments/724729758959284366/runs/1ab4c07c411845b8b18c49e55eca2e69\n",
      "🧪 View experiment at: http://127.0.0.1:5000/#/experiments/724729758959284366\n",
      "🏃 View run able-flea-52 at: http://127.0.0.1:5000/#/experiments/724729758959284366/runs/2550438ed15d4aaeb7e462a3d542747b\n",
      "🧪 View experiment at: http://127.0.0.1:5000/#/experiments/724729758959284366\n",
      "🏃 View run outer at: http://127.0.0.1:5000/#/experiments/724729758959284366/runs/e2210f06c0fd4d2a8ae00a6654d163fa\n",
      "🧪 View experiment at: http://127.0.0.1:5000/#/experiments/724729758959284366\n"
     ]
    },
    {
     "name": "stderr",
     "output_type": "stream",
     "text": [
      "2025/05/08 17:29:15 WARNING mlflow.models.model: Model logged without a signature and input example. Please set `input_example` parameter when logging the model to auto infer the model signature.\n"
     ]
    },
    {
     "name": "stdout",
     "output_type": "stream",
     "text": [
      "🏃 View run best_model at: http://127.0.0.1:5000/#/experiments/724729758959284366/runs/06aec511dc8b4ac09271da7f6bc19543\n",
      "🧪 View experiment at: http://127.0.0.1:5000/#/experiments/724729758959284366\n"
     ]
    }
   ],
   "source": [
    "import mlflow\n",
    "import mlflow.sklearn\n",
    "from sklearn.ensemble import RandomForestClassifier\n",
    "from sklearn.pipeline import Pipeline\n",
    "from sklearn.model_selection import GridSearchCV\n",
    "\n",
    "# Set up MLflow\n",
    "mlflow.set_tracking_uri('http://127.0.0.1:5000')\n",
    "mlflow.set_experiment('grid search')\n",
    "mlflow.sklearn.autolog()\n",
    "\n",
    "# Define pipeline correctly\n",
    "pipeline = Pipeline([\n",
    "    ('rf', RandomForestClassifier())\n",
    "])\n",
    "\n",
    "# Define hyperparameter grid for 'rf' step\n",
    "param_grid = {\n",
    "    \"rf__n_estimators\": list(range(100, 300, 100)),\n",
    "    \"rf__max_depth\": [2, 3, 4, 5, 6, 7],\n",
    "    \"rf__min_samples_split\": [2, 3, 4, 5]  # Note: 1 is invalid for most uses\n",
    "}\n",
    "\n",
    "# Outer run for grid search\n",
    "with mlflow.start_run(run_name='outer', nested=True) as parent:\n",
    "    grid_search = GridSearchCV(estimator=pipeline,\n",
    "                               param_grid=param_grid,\n",
    "                               cv=5,\n",
    "                               n_jobs=-1,\n",
    "                               verbose=2)\n",
    "    grid_search.fit(X_train, y_train)  # Make sure X_train and y_train are defined\n",
    "\n",
    "# Log best model separately\n",
    "with mlflow.start_run(run_name='best_model') as best:\n",
    "    mlflow.log_params(grid_search.best_params_)\n",
    "    mlflow.log_metric('best_accuracy', grid_search.best_score_)\n",
    "    mlflow.sklearn.log_model(sk_model=grid_search.best_estimator_,\n",
    "                             artifact_path='best_model')\n"
   ]
  }
 ],
 "metadata": {
  "kernelspec": {
   "display_name": ".venv",
   "language": "python",
   "name": "python3"
  },
  "language_info": {
   "codemirror_mode": {
    "name": "ipython",
    "version": 3
   },
   "file_extension": ".py",
   "mimetype": "text/x-python",
   "name": "python",
   "nbconvert_exporter": "python",
   "pygments_lexer": "ipython3",
   "version": "3.13.3"
  }
 },
 "nbformat": 4,
 "nbformat_minor": 5
}
